{
 "cells": [
  {
   "cell_type": "code",
   "execution_count": 1,
   "metadata": {},
   "outputs": [],
   "source": [
    "import numpy as np\n",
    "import os\n",
    "import torch\n",
    "import torch.nn as nn\n",
    "import torch.nn.functional as F\n",
    "import time\n",
    "import matplotlib.pyplot as plt\n",
    "\n",
    "# from evaluate import *\n",
    "from load_test_set_pytorch import *\n",
    "from load_dataset_rgb_scale import *\n",
    "from __future__ import print_function\n",
    "from torch.autograd import Variable\n",
    "\n",
    "numClass = 43"
   ]
  },
  {
   "cell_type": "code",
   "execution_count": 2,
   "metadata": {},
   "outputs": [
    {
     "name": "stdout",
     "output_type": "stream",
     "text": [
      "(39209, 64, 64, 3)\n",
      "(39209,)\n"
     ]
    }
   ],
   "source": [
    "X, Y = get_dataset_rgb_scale()\n",
    "print(X.shape)\n",
    "print(Y.shape)"
   ]
  },
  {
   "cell_type": "code",
   "execution_count": 3,
   "metadata": {},
   "outputs": [],
   "source": [
    "def transpose_dimension(x):\n",
    "    x = np.transpose(x, (0, 3, 1, 2))\n",
    "    return x"
   ]
  },
  {
   "cell_type": "code",
   "execution_count": 4,
   "metadata": {},
   "outputs": [
    {
     "name": "stdout",
     "output_type": "stream",
     "text": [
      "(39209, 3, 64, 64)\n"
     ]
    }
   ],
   "source": [
    "X = transpose_dimension(X)\n",
    "print(X.shape)"
   ]
  },
  {
   "cell_type": "code",
   "execution_count": 5,
   "metadata": {},
   "outputs": [],
   "source": [
    "class Net(nn.Module):\n",
    "    \n",
    "    def __init__(self):\n",
    "        super(Net, self).__init__()\n",
    "        #using \"same\" 2 times with relu then max pool from 64x64x3 to 32x32x9\n",
    "        self.conv1 = nn.Conv2d(3, 6, 9, padding=4) \n",
    "        self.conv2 = nn.Conv2d(6, 9, 9, padding=4) \n",
    "        #using \"same\" 2 times with relu then max pool from 32x32x9 to 16x16x15\n",
    "        self.conv3 = nn.Conv2d(9, 12, 7, padding=3) \n",
    "        self.conv4 = nn.Conv2d(12, 15, 7, padding=3) \n",
    "        #using \"same\" 2 times with relu then max pool from 16x16x15 to 8x8x21\n",
    "        self.conv5 = nn.Conv2d(15, 18, 5, padding=2) \n",
    "        self.conv6 = nn.Conv2d(18, 21, 5, padding=2) \n",
    "        #using \"same\" with maxpool with relu from 8x8x21 to 8x8x27 then to 4x4x27\n",
    "        self.conv7 = nn.Conv2d(21, 24, 3, padding=1)\n",
    "        self.conv8 = nn.Conv2d(24, 27, 3, padding=1)\n",
    "\n",
    "        #Fully connected layer\n",
    "        self.fc1 = nn.Linear(432, 300)\n",
    "        self.fc2 = nn.Linear(300, 200)\n",
    "        self.fc3 = nn.Linear(200, 200)\n",
    "        self.fc4 = nn.Linear(200, 128)\n",
    "        self.fc5 = nn.Linear(128, 128)\n",
    "        self.fc6 = nn.Linear(128, 64)\n",
    "        self.fc7 = nn.Linear(64, 64)\n",
    "        self.fc8 = nn.Linear(64, 64)\n",
    "        self.fc9 = nn.Linear(64, 43)\n",
    "        \n",
    "    def forward(self, X):\n",
    "        X = F.relu(self.conv1(X))\n",
    "        X = F.max_pool2d(F.relu(self.conv2(X)), (2,2))\n",
    "        X = F.relu(self.conv3(X))\n",
    "        X = F.max_pool2d(F.relu(self.conv4(X)), (2,2))\n",
    "        X = F.relu(self.conv5(X))\n",
    "        X = F.max_pool2d(F.relu(self.conv6(X)), (2,2))\n",
    "        X = F.relu(self.conv7(X))\n",
    "        X = F.max_pool2d(F.relu(self.conv8(X)), (2,2))\n",
    "    \n",
    "        X = X.view(-1, self.num_flat_features(X))\n",
    "        \n",
    "        X1 = F.relu(self.fc1(X)) #432 to 300\n",
    "        X2 = F.relu(self.fc2(X1)) #300 to 200\n",
    "        X3 = F.relu(self.fc3(X2)) #200 to 200\n",
    "        X4 = F.relu(self.fc4(X2 + X3)) #200 to 128\n",
    "        X5 = F.relu(self.fc5(X4)) #128 to 128\n",
    "        X6 = F.relu(self.fc6(X5 + X4)) #128 to 64\n",
    "        X7 = F.relu(self.fc7(X6)) #64 to 64\n",
    "        X8 = F.relu(self.fc8(X6 + X7)) #64 to 64\n",
    "        X9 = self.fc9(X8)\n",
    "\n",
    "        return X\n",
    "    \n",
    "    def num_flat_features(self, x):\n",
    "        size = x.size()[1:]  # all dimensions except the batch dimension\n",
    "        num_features = 1\n",
    "        for s in size:\n",
    "            num_features *= s\n",
    "        return num_features"
   ]
  },
  {
   "cell_type": "code",
   "execution_count": null,
   "metadata": {},
   "outputs": [],
   "source": []
  },
  {
   "cell_type": "code",
   "execution_count": 17,
   "metadata": {},
   "outputs": [],
   "source": [
    "def train_data(checkpoint_path, store_type,\n",
    "               learning_rate = (1e-4), num_epochs = 5, batch_size = 64, resume = False, num_class = 43):\n",
    "    net = Net()\n",
    "    start = time.time()\n",
    "    \n",
    "    criterion = nn.CrossEntropyLoss()\n",
    "    optimizer = torch.optim.Adam(net.parameters(), lr=learning_rate)\n",
    "    \n",
    "    m = X.shape[0]\n",
    "    iters_per_epoch = int(m / batch_size)+1\n",
    "    hist = []\n",
    "    \n",
    "    name_checkpoint = \"model_epoch\" + store_type + \".chkpt\"\n",
    "    \n",
    "    if (resume):\n",
    "        checkpoint = torch.load(os.path.join(checkpoint_path, name_checkpoint))\n",
    "        hist = checkpoint[\"hist\"]\n",
    "        optimizer.load_state_dict(checkpoint[\"optimizer\"])\n",
    "        net.load_state_dict(checkpoint[\"net\"])\n",
    "    \n",
    "    cnt = 0\n",
    "    for param_group in optimizer.param_groups: \n",
    "        param_group['lr'] = learning_rate\n",
    "        cnt += 1\n",
    "    print(cnt)\n",
    "    \n",
    "    for iters in range(num_epochs):\n",
    "        for i in range(iters_per_epoch):\n",
    "            indices = np.random.choice(m, batch_size)\n",
    "#             print()\n",
    "            \n",
    "            input = X[indices]\n",
    "            target = Y[indices]\n",
    "            \n",
    "            input = Variable(torch.from_numpy(input).float())\n",
    "            target = Variable(torch.from_numpy(target).long())\n",
    "            \n",
    "            out = net(input)\n",
    "            loss = criterion(out, target)\n",
    "            \n",
    "            optimizer.zero_grad()\n",
    "            net.zero_grad()\n",
    "            loss.backward()\n",
    "            optimizer.step()\n",
    "            \n",
    "            if (i%40==0):\n",
    "                now = time.time()\n",
    "                print(\"iterate %d: loss = %.9f, spent = %.5f\" % (i + 1, loss.data[0], now - start))\n",
    "                start = now\n",
    "\n",
    "        print(\"Epoch %d: loss = %.9f\" % (iters + 1, loss.data[0]))\n",
    "        hist.append(loss.data[0])\n",
    "        \n",
    "    #\n",
    "    \n",
    "    optimizer.zero_grad()\n",
    "    checkpoint = {\n",
    "        \"optimizer\": optimizer.state_dict(),\n",
    "        \"hist\": hist,\n",
    "        \"net\": net.state_dict()\n",
    "    }\n",
    "    torch.save(checkpoint, os.path.join(checkpoint_path, name_checkpoint))\n",
    "    \n",
    "    return hist"
   ]
  },
  {
   "cell_type": "code",
   "execution_count": 18,
   "metadata": {},
   "outputs": [
    {
     "name": "stdout",
     "output_type": "stream",
     "text": [
      "1\n",
      "iterate 1: loss = 0.188046709, spent = 0.91788\n",
      "iterate 41: loss = 0.098726459, spent = 35.50823\n",
      "iterate 81: loss = 0.119357526, spent = 35.79569\n",
      "iterate 121: loss = 0.233187169, spent = 36.46851\n",
      "iterate 161: loss = 0.180718467, spent = 36.88355\n",
      "iterate 201: loss = 0.275977582, spent = 36.54720\n",
      "iterate 241: loss = 0.156635270, spent = 36.71249\n",
      "iterate 281: loss = 0.148248583, spent = 36.91655\n",
      "iterate 321: loss = 0.237905934, spent = 36.56615\n",
      "iterate 361: loss = 0.191249534, spent = 38.49671\n",
      "iterate 401: loss = 0.080186568, spent = 36.03751\n",
      "iterate 441: loss = 0.118834272, spent = 36.08990\n",
      "iterate 481: loss = 0.217800215, spent = 37.54166\n",
      "iterate 521: loss = 0.086915031, spent = 36.34997\n",
      "iterate 561: loss = 0.207074717, spent = 36.67723\n",
      "iterate 601: loss = 0.085938543, spent = 36.46018\n",
      "Epoch 1: loss = 0.070142679\n",
      "iterate 1: loss = 0.139630467, spent = 11.92226\n",
      "iterate 41: loss = 0.075974613, spent = 36.34908\n",
      "iterate 81: loss = 0.136316538, spent = 36.72448\n",
      "iterate 121: loss = 0.096741751, spent = 36.43411\n",
      "iterate 161: loss = 0.151872128, spent = 36.59992\n",
      "iterate 201: loss = 0.213303909, spent = 39.12078\n",
      "iterate 241: loss = 0.117768839, spent = 35.84892\n",
      "iterate 281: loss = 0.042988133, spent = 35.86186\n",
      "iterate 321: loss = 0.057645775, spent = 36.02137\n",
      "iterate 361: loss = 0.135435358, spent = 37.05004\n",
      "iterate 401: loss = 0.185709149, spent = 37.16143\n",
      "iterate 441: loss = 0.073401384, spent = 36.55554\n",
      "iterate 481: loss = 0.186007291, spent = 36.45948\n",
      "iterate 521: loss = 0.076534525, spent = 36.75344\n",
      "iterate 561: loss = 0.049839467, spent = 37.52898\n",
      "iterate 601: loss = 0.087827422, spent = 36.62901\n",
      "Epoch 2: loss = 0.122564755\n",
      "iterate 1: loss = 0.077744424, spent = 11.78384\n",
      "iterate 41: loss = 0.122345515, spent = 36.67628\n",
      "iterate 81: loss = 0.072560772, spent = 36.54862\n",
      "iterate 121: loss = 0.204360679, spent = 36.45278\n",
      "iterate 161: loss = 0.094270810, spent = 36.59681\n",
      "iterate 201: loss = 0.080391027, spent = 36.55893\n",
      "iterate 241: loss = 0.306256860, spent = 37.76814\n",
      "iterate 281: loss = 0.172439009, spent = 40.66582\n",
      "iterate 321: loss = 0.138610587, spent = 37.74234\n",
      "iterate 361: loss = 0.068528384, spent = 37.68374\n",
      "iterate 401: loss = 0.241441503, spent = 37.98108\n",
      "iterate 441: loss = 0.100087538, spent = 37.82631\n",
      "iterate 481: loss = 0.147525981, spent = 38.00234\n",
      "iterate 521: loss = 0.072210111, spent = 38.01761\n",
      "iterate 561: loss = 0.063713767, spent = 43.03926\n",
      "iterate 601: loss = 0.108374871, spent = 39.51918\n",
      "Epoch 3: loss = 0.077710047\n"
     ]
    }
   ],
   "source": [
    "hist = train_data(\"checkpoint\", \"11\", resume = True, num_epochs = 3)"
   ]
  },
  {
   "cell_type": "code",
   "execution_count": 19,
   "metadata": {},
   "outputs": [
    {
     "name": "stdout",
     "output_type": "stream",
     "text": [
      "[2.5182900428771973, 1.5142749547958374, 1.1461366415023804, 0.6217596530914307, 0.49422958493232727, 0.4902268946170807, 0.22011202573776245, 0.20778802037239075, 0.07014267891645432, 0.12256475538015366, 0.07771004736423492]\n",
      "11\n",
      "Net(\n",
      "  (conv1): Conv2d (3, 6, kernel_size=(9, 9), stride=(1, 1), padding=(4, 4))\n",
      "  (conv2): Conv2d (6, 9, kernel_size=(9, 9), stride=(1, 1), padding=(4, 4))\n",
      "  (conv3): Conv2d (9, 12, kernel_size=(7, 7), stride=(1, 1), padding=(3, 3))\n",
      "  (conv4): Conv2d (12, 15, kernel_size=(7, 7), stride=(1, 1), padding=(3, 3))\n",
      "  (conv5): Conv2d (15, 18, kernel_size=(5, 5), stride=(1, 1), padding=(2, 2))\n",
      "  (conv6): Conv2d (18, 21, kernel_size=(5, 5), stride=(1, 1), padding=(2, 2))\n",
      "  (conv7): Conv2d (21, 24, kernel_size=(3, 3), stride=(1, 1), padding=(1, 1))\n",
      "  (conv8): Conv2d (24, 27, kernel_size=(3, 3), stride=(1, 1), padding=(1, 1))\n",
      "  (fc1): Linear(in_features=432, out_features=300)\n",
      "  (fc2): Linear(in_features=300, out_features=200)\n",
      "  (fc3): Linear(in_features=200, out_features=200)\n",
      "  (fc4): Linear(in_features=200, out_features=128)\n",
      "  (fc5): Linear(in_features=128, out_features=128)\n",
      "  (fc6): Linear(in_features=128, out_features=64)\n",
      "  (fc7): Linear(in_features=64, out_features=64)\n",
      "  (fc8): Linear(in_features=64, out_features=64)\n",
      "  (fc9): Linear(in_features=64, out_features=43)\n",
      ")\n"
     ]
    }
   ],
   "source": [
    "checkpoint = torch.load(os.path.join(\"checkpoint\", \"model_epoch11.chkpt\"))\n",
    "\n",
    "net = Net()\n",
    "\n",
    "hist = checkpoint[\"hist\"]\n",
    "net.load_state_dict(checkpoint[\"net\"])\n",
    "\n",
    "print(hist)\n",
    "print(len(hist))\n",
    "print(net)"
   ]
  },
  {
   "cell_type": "code",
   "execution_count": 9,
   "metadata": {},
   "outputs": [
    {
     "name": "stdout",
     "output_type": "stream",
     "text": [
      "(12630, 64, 64, 3)\n",
      "(12630,)\n"
     ]
    }
   ],
   "source": [
    "test_X, test_Y = load_test_set()\n",
    "print(test_X.shape)\n",
    "print(test_Y.shape)"
   ]
  },
  {
   "cell_type": "code",
   "execution_count": null,
   "metadata": {},
   "outputs": [],
   "source": [
    "print(Sh)"
   ]
  },
  {
   "cell_type": "code",
   "execution_count": 10,
   "metadata": {},
   "outputs": [
    {
     "name": "stdout",
     "output_type": "stream",
     "text": [
      "(12630, 3, 64, 64)\n",
      "(3, 64, 64)\n"
     ]
    }
   ],
   "source": [
    "test_X = transpose_dimension(test_X)\n",
    "print(test_X.shape)\n",
    "print(test_X[0].shape)"
   ]
  },
  {
   "cell_type": "code",
   "execution_count": 11,
   "metadata": {},
   "outputs": [],
   "source": [
    "def get_outputs(net, instances):\n",
    "    instances = Variable(instances)\n",
    "    outputs = net(instances)\n",
    "    return outputs\n",
    "\n",
    "def evaluate(net, data_X, data_Y):\n",
    "    loss = 0\n",
    "    correct = 0\n",
    "    total = 0\n",
    "    \n",
    "    m = data_X.shape[0]\n",
    "\n",
    "    # Switch to evaluation mode.\n",
    "    net.eval()\n",
    "    \n",
    "    for i in range(m):\n",
    "        outputs = get_outputs(net, torch.from_numpy(data_X[i:i+1]).float())\n",
    "        labels = Variable(torch.from_numpy(data_Y[i:i+1]).long())\n",
    "\n",
    "        loss += nn.CrossEntropyLoss(size_average=False)(outputs, labels).data[0]\n",
    "\n",
    "        score, predicted = torch.max(outputs, 1)\n",
    "        now = (labels.data == predicted.data).sum()\n",
    "        correct += now\n",
    "        \n",
    "#         if (now==0):\n",
    "#             print(i)\n",
    "            \n",
    "        total += labels.size(0)\n",
    "\n",
    "    acc = correct / total\n",
    "    loss /= total\n",
    "\n",
    "    return loss, acc\n"
   ]
  },
  {
   "cell_type": "code",
   "execution_count": 13,
   "metadata": {},
   "outputs": [
    {
     "name": "stdout",
     "output_type": "stream",
     "text": [
      "Loss = 1.188574\n",
      "Acc = 66.033254 percent\n",
      "Time per image: 0.007712 seconds: \n"
     ]
    }
   ],
   "source": [
    "start = time.time()\n",
    "loss, acc = evaluate(net, test_X, test_Y)\n",
    "now = time.time()\n",
    "\n",
    "print(\"Loss = %.6f\" % (loss))\n",
    "print(\"Acc = %.6f percent\" % (acc*100))\n",
    "print(\"Time per image: %.6f seconds: \" % ((now-start)/test_X.shape[0]))"
   ]
  },
  {
   "cell_type": "code",
   "execution_count": null,
   "metadata": {},
   "outputs": [],
   "source": [
    "loss, acc = evaluate(net, X, Y)\n",
    "\n",
    "print(\"Loss = %.6f\" % (loss))\n",
    "print(\"Acc = %.6f percent\" % (acc*100))"
   ]
  },
  {
   "cell_type": "code",
   "execution_count": null,
   "metadata": {},
   "outputs": [
    {
     "name": "stdout",
     "output_type": "stream",
     "text": [
      "[2.5182900428771973, 1.5142749547958374, 1.1461366415023804, 0.6217596530914307, 0.49422958493232727, 0.4902268946170807, 0.22011202573776245, 0.20778802037239075, 0.07014267891645432, 0.12256475538015366, 0.07771004736423492]\n"
     ]
    },
    {
     "data": {
      "image/png": "[encoded data removed]",
      "text/plain": [
       "<matplotlib.figure.Figure at 0x7f9d407afc88>"
      ]
     },
     "metadata": {},
     "output_type": "display_data"
    },
    {
     "name": "stdout",
     "output_type": "stream",
     "text": [
      "Test set loss = 0.646080\n",
      "Test set acc = 86.104513 percent\n",
      "Time per image: 0.009311 seconds: \n"
     ]
    }
   ],
   "source": [
    "print(hist)\n",
    "plt.plot(hist)\n",
    "plt.ylabel('Loss of training set')\n",
    "plt.xlabel('Number of epoches')\n",
    "plt.show()\n",
    "\n",
    "start = time.time()\n",
    "loss, acc = evaluate(net, test_X, test_Y)\n",
    "now = time.time()\n",
    "print(\"Test set loss = %.6f\" % (loss))\n",
    "print(\"Test set acc = %.6f percent\" % (acc*100))\n",
    "print(\"Time per image: %.6f seconds: \" % ((now-start)/test_X.shape[0]))\n",
    "\n",
    "start = time.time()\n",
    "loss, acc = evaluate(net, X, Y)\n",
    "now = time.time()\n",
    "print(\"Train set loss = %.6f\" % (loss))\n",
    "print(\"Train set acc = %.6f percent\" % (acc*100))\n",
    "print(\"Time per image: %.6f seconds: \" % ((now-start)/X.shape[0]))\n"
   ]
  },
  {
   "cell_type": "code",
   "execution_count": null,
   "metadata": {},
   "outputs": [],
   "source": [
    "print(hist)\n",
    "plt.plot(hist)\n",
    "plt.ylabel('Loss of training set')\n",
    "plt.xlabel('Number of epoches')\n",
    "plt.show()\n",
    "\n",
    "start = time.time()\n",
    "loss, acc = evaluate(net, test_X, test_Y)\n",
    "now = time.time()\n",
    "print(\"Test set loss = %.6f\" % (loss))\n",
    "print(\"Test set acc = %.6f percent\" % (acc*100))\n",
    "print(\"Time per image: %.6f seconds \" % ((now-start)/test_X.shape[0]))\n",
    "\n",
    "start = time.time()\n",
    "loss, acc = evaluate(net, X, Y)\n",
    "now = time.time()\n",
    "print(\"Train set loss = %.6f\" % (loss))\n",
    "print(\"Train set acc = %.6f percent\" % (acc*100))\n",
    "print(\"Time per image: %.6f seconds \" % ((now-start)/X.shape[0]))\n"
   ]
  },
  {
   "cell_type": "code",
   "execution_count": null,
   "metadata": {},
   "outputs": [],
   "source": []
  }
 ],
 "metadata": {
  "kernelspec": {
   "display_name": "Python 3",
   "language": "python",
   "name": "python3"
  },
  "language_info": {
   "codemirror_mode": {
    "name": "ipython",
    "version": 3
   },
   "file_extension": ".py",
   "mimetype": "text/x-python",
   "name": "python",
   "nbconvert_exporter": "python",
   "pygments_lexer": "ipython3",
   "version": "3.5.2"
  }
 },
 "nbformat": 4,
 "nbformat_minor": 2
}
