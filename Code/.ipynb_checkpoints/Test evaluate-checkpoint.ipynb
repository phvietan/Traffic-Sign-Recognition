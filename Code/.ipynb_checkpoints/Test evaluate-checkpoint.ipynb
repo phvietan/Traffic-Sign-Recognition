{
 "cells": [
  {
   "cell_type": "code",
   "execution_count": 2,
   "metadata": {},
   "outputs": [],
   "source": [
    "import numpy as np\n",
    "import os\n",
    "import torch\n",
    "import torch.nn as nn\n",
    "import torch.nn.functional as F\n",
    "\n",
    "from torch.autograd import Variable"
   ]
  },
  {
   "cell_type": "code",
   "execution_count": null,
   "metadata": {},
   "outputs": [],
   "source": [
    "def get_outputs(model, instances):\n",
    "\n",
    "    if flow:\n",
    "        frames = Variable(instances[\"frames\"])\n",
    "        flow_x = Variable(instances[\"flow_x\"])\n",
    "        flow_y = Variable(instances[\"flow_y\"])\n",
    "\n",
    "        if use_cuda:\n",
    "            frames = frames.cuda()\n",
    "            flow_x = flow_x.cuda()\n",
    "            flow_y = flow_y.cuda()\n",
    "\n",
    "        outputs = model(frames, flow_x, flow_y)\n",
    "\n",
    "    else:\n",
    "        instances = Variable(instances)\n",
    "        if use_cuda:\n",
    "            instances = instances.cuda()\n",
    "\n",
    "        outputs = model(instances)\n",
    "\n",
    "    return outputs\n",
    "\n",
    "def evaluate(net, dataloader):\n",
    "    loss = 0\n",
    "    correct = 0\n",
    "    total = 0\n",
    "\n",
    "    # Switch to evaluation mode.\n",
    "    model.eval()\n",
    "\n",
    "    for i, samples in enumerate(dataloader):\n",
    "        outputs = get_outputs(model, samples[\"instance\"], flow=flow,\n",
    "                              use_cuda=use_cuda)\n",
    "        \n",
    "        labels = Variable(samples[\"label\"])\n",
    "        if use_cuda:\n",
    "            labels = labels.cuda()\n",
    "\n",
    "        loss += nn.CrossEntropyLoss(size_average=False)(outputs, labels).data[0]\n",
    "\n",
    "        score, predicted = torch.max(outputs, 1)\n",
    "        correct += (labels.data == predicted.data).sum()\n",
    "        \n",
    "        total += labels.size(0)\n",
    "\n",
    "    acc = correct / total\n",
    "    loss /= total\n",
    "\n",
    "    return loss, acc\n"
   ]
  }
 ],
 "metadata": {
  "kernelspec": {
   "display_name": "Python 3",
   "language": "python",
   "name": "python3"
  },
  "language_info": {
   "codemirror_mode": {
    "name": "ipython",
    "version": 3
   },
   "file_extension": ".py",
   "mimetype": "text/x-python",
   "name": "python",
   "nbconvert_exporter": "python",
   "pygments_lexer": "ipython3",
   "version": "3.5.2"
  }
 },
 "nbformat": 4,
 "nbformat_minor": 2
}
