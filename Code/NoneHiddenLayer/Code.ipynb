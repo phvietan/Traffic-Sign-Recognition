{
 "cells": [
  {
   "cell_type": "code",
   "execution_count": 1,
   "metadata": {},
   "outputs": [],
   "source": [
    "import numpy as np\n",
    "import os\n",
    "import torch\n",
    "import torch.nn as nn\n",
    "import torch.nn.functional as F\n",
    "from torch.autograd import Variable\n",
    "import time\n",
    "import matplotlib.pyplot as plt\n",
    "\n",
    "from train_dataset import *\n",
    "from test_dataset import *"
   ]
  },
  {
   "cell_type": "code",
   "execution_count": 2,
   "metadata": {},
   "outputs": [],
   "source": [
    "train_set = TrafficSignTrain()\n",
    "test_set = TrafficSignTest()"
   ]
  },
  {
   "cell_type": "code",
   "execution_count": 3,
   "metadata": {},
   "outputs": [],
   "source": [
    "class Net(nn.Module):\n",
    "    def __init__(self):\n",
    "        super(Net, self).__init__()\n",
    "#         a picture with resolution 64x64x3 fully connected to 43 classes\n",
    "        self.fc = nn.Linear(64*64*3, 43)\n",
    "        \n",
    "    def forward(self, X):\n",
    "#         flatten the input X\n",
    "        X = X.view(-1, self.num_flat_features(X))\n",
    "#         forward\n",
    "        X = self.fc(X)\n",
    "        return X\n",
    "    \n",
    "    def num_flat_features(self, x):\n",
    "        size = x.size()[1:]  # all dimensions except the batch dimension\n",
    "        num_features = 1\n",
    "        for s in size:\n",
    "            num_features *= s\n",
    "        return num_features"
   ]
  },
  {
   "cell_type": "code",
   "execution_count": null,
   "metadata": {},
   "outputs": [],
   "source": [
    "def train_data(checkpoint_path, model_name, learning_rate = (1e-4), num_epochs = 5, \n",
    "               batch_size = 1, resume = False, num_class = 43):\n",
    "    net = Net()\n",
    "    start = time.time()\n",
    "    criterion = nn.CrossEntropyLoss()\n",
    "    optimizer = torch.optim.Adam(net.parameters(), lr=learning_rate)\n",
    "    \n",
    "    m = len(train_set)\n",
    "    hist = []\n",
    "    \n",
    "    name_checkpoint = model_name + \".chkpt\"\n",
    "    if (resume):\n",
    "        checkpoint = torch.load(os.path.join(checkpoint_path, name_checkpoint))\n",
    "        hist = checkpoint[\"hist\"]\n",
    "        optimizer.load_state_dict(checkpoint[\"optimizer\"])\n",
    "        net.load_state_dict(checkpoint[\"net\"])\n",
    "    \n",
    "    for iters in range(num_epochs):\n",
    "        indices = np.random.permutation(m)\n",
    "        for i in range(m):\n",
    "            input = train_set[indices[i]-1]['image']\n",
    "            target = train_set[indices[i]-1]['classId']\n",
    "            \n",
    "            input = Variable(torch.from_numpy(input).float())\n",
    "            target = Variable(torch.from_numpy(target).long())\n",
    "            \n",
    "            out = net(input)\n",
    "            loss = criterion(out, target)\n",
    "            optimizer.zero_grad()\n",
    "#             net.zero_grad()\n",
    "            loss.backward()\n",
    "            optimizer.step()\n",
    "            \n",
    "            if (i%4900==0):\n",
    "                now = time.time()\n",
    "                print(\"iterate %d: loss = %.9f, spent = %.5f\" % (i + 1, loss.data[0], now - start))\n",
    "                start = now\n",
    "                \n",
    "        print(\"Epoch %d: loss = %.9f\" % (iters + 1, loss.data[0]))\n",
    "        hist.append(loss.data[0])\n",
    "    \n",
    "    checkpoint = {\n",
    "        \"optimizer\": optimizer.state_dict(),\n",
    "        \"hist\": hist,\n",
    "        \"net\": net.state_dict()\n",
    "    }\n",
    "    torch.save(checkpoint, os.path.join(checkpoint_path, name_checkpoint))\n",
    "    \n",
    "    return hist"
   ]
  },
  {
   "cell_type": "code",
   "execution_count": null,
   "metadata": {},
   "outputs": [
    {
     "name": "stdout",
     "output_type": "stream",
     "text": [
      "iterate 1: loss = 3.766139507, spent = 0.01574\n",
      "iterate 4901: loss = 0.950668514, spent = 55.13920\n",
      "iterate 9801: loss = 1.850159049, spent = 77.60526\n",
      "iterate 14701: loss = 1.904563069, spent = 47.63952\n",
      "iterate 19601: loss = 5.319349766, spent = 45.87490\n",
      "iterate 24501: loss = 0.019266386, spent = 43.65016\n",
      "iterate 29401: loss = 0.011423065, spent = 53.14657\n"
     ]
    }
   ],
   "source": [
    "hist = train_data(\"../checkpoint\", \"NoneHiddenlayer\", resume = False, num_epochs = 1)"
   ]
  },
  {
   "cell_type": "code",
   "execution_count": null,
   "metadata": {},
   "outputs": [],
   "source": []
  }
 ],
 "metadata": {
  "kernelspec": {
   "display_name": "Python 3",
   "language": "python",
   "name": "python3"
  },
  "language_info": {
   "codemirror_mode": {
    "name": "ipython",
    "version": 3
   },
   "file_extension": ".py",
   "mimetype": "text/x-python",
   "name": "python",
   "nbconvert_exporter": "python",
   "pygments_lexer": "ipython3",
   "version": "3.5.2"
  }
 },
 "nbformat": 4,
 "nbformat_minor": 2
}
