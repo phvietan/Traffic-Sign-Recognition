{
 "cells": [
  {
   "cell_type": "code",
   "execution_count": 10,
   "metadata": {},
   "outputs": [],
   "source": [
    "import numpy as np\n",
    "import torch\n",
    "import torch.nn as nn\n",
    "import torch.nn.functional as F\n",
    "\n",
    "from torch.autograd import Variable"
   ]
  },
  {
   "cell_type": "code",
   "execution_count": 11,
   "metadata": {},
   "outputs": [],
   "source": [
    "def get_outputs(net, instances):\n",
    "    instances = Variable(instances)\n",
    "    outputs = net(instances)\n",
    "    return outputs\n",
    "\n",
    "def evaluate(net, data_X, data_Y):\n",
    "    loss = 0\n",
    "    correct = 0\n",
    "    total = 0\n",
    "\n",
    "    # Switch to evaluation mode.\n",
    "    net.eval()\n",
    "\n",
    "    for i, samples in enumerate(dataloader):\n",
    "        outputs = get_outputs(net, data_X[i])\n",
    "        \n",
    "        labels = Variable(data_Y[i])\n",
    "\n",
    "        loss += nn.CrossEntropyLoss(size_average=False)(outputs, labels).data[0]\n",
    "\n",
    "        score, predicted = torch.max(outputs, 1)\n",
    "        correct += (labels.data == predicted.data).sum()\n",
    "        \n",
    "        total += labels.size(0)\n",
    "\n",
    "    acc = correct / total\n",
    "    loss /= total\n",
    "\n",
    "    return loss, acc\n"
   ]
  },
  {
   "cell_type": "code",
   "execution_count": null,
   "metadata": {},
   "outputs": [],
   "source": []
  }
 ],
 "metadata": {
  "kernelspec": {
   "display_name": "Python 3",
   "language": "python",
   "name": "python3"
  },
  "language_info": {
   "codemirror_mode": {
    "name": "ipython",
    "version": 3
   },
   "file_extension": ".py",
   "mimetype": "text/x-python",
   "name": "python",
   "nbconvert_exporter": "python",
   "pygments_lexer": "ipython3",
   "version": "3.5.2"
  }
 },
 "nbformat": 4,
 "nbformat_minor": 2
}
